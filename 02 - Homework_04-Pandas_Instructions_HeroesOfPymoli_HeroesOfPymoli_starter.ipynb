{
 "cells": [
  {
   "cell_type": "markdown",
   "metadata": {},
   "source": [
    "### Note\n",
    "* Instructions have been included for each segment. You do not have to follow them exactly, but they are included to help you think through the steps."
   ]
  },
  {
   "cell_type": "code",
   "execution_count": 30,
   "metadata": {},
   "outputs": [],
   "source": [
    "\n",
    "# Dependencies and Setup\n",
    "import pandas as pd\n",
    "\n",
    "# File to Load (Remember to Change These)\n",
    "file_to_load = \"02 - Homework_04-Pandas_Instructions_HeroesOfPymoli_Resources_purchase_data.csv\"\n",
    "\n",
    "# Read Purchasing File and store into Pandas data frame\n",
    "purchase_data = pd.read_csv(file_to_load)"
   ]
  },
  {
   "cell_type": "code",
   "execution_count": 31,
   "metadata": {},
   "outputs": [
    {
     "data": {
      "text/html": [
       "<div>\n",
       "<style scoped>\n",
       "    .dataframe tbody tr th:only-of-type {\n",
       "        vertical-align: middle;\n",
       "    }\n",
       "\n",
       "    .dataframe tbody tr th {\n",
       "        vertical-align: top;\n",
       "    }\n",
       "\n",
       "    .dataframe thead th {\n",
       "        text-align: right;\n",
       "    }\n",
       "</style>\n",
       "<table border=\"1\" class=\"dataframe\">\n",
       "  <thead>\n",
       "    <tr style=\"text-align: right;\">\n",
       "      <th></th>\n",
       "      <th>Purchase ID</th>\n",
       "      <th>SN</th>\n",
       "      <th>Age</th>\n",
       "      <th>Gender</th>\n",
       "      <th>Item ID</th>\n",
       "      <th>Item Name</th>\n",
       "      <th>Price</th>\n",
       "    </tr>\n",
       "  </thead>\n",
       "  <tbody>\n",
       "    <tr>\n",
       "      <th>0</th>\n",
       "      <td>0</td>\n",
       "      <td>Lisim78</td>\n",
       "      <td>20</td>\n",
       "      <td>Male</td>\n",
       "      <td>108</td>\n",
       "      <td>Extraction, Quickblade Of Trembling Hands</td>\n",
       "      <td>$3.53</td>\n",
       "    </tr>\n",
       "    <tr>\n",
       "      <th>1</th>\n",
       "      <td>1</td>\n",
       "      <td>Lisovynya38</td>\n",
       "      <td>40</td>\n",
       "      <td>Male</td>\n",
       "      <td>143</td>\n",
       "      <td>Frenzied Scimitar</td>\n",
       "      <td>$1.56</td>\n",
       "    </tr>\n",
       "    <tr>\n",
       "      <th>2</th>\n",
       "      <td>2</td>\n",
       "      <td>Ithergue48</td>\n",
       "      <td>24</td>\n",
       "      <td>Male</td>\n",
       "      <td>92</td>\n",
       "      <td>Final Critic</td>\n",
       "      <td>$4.88</td>\n",
       "    </tr>\n",
       "    <tr>\n",
       "      <th>3</th>\n",
       "      <td>3</td>\n",
       "      <td>Chamassasya86</td>\n",
       "      <td>24</td>\n",
       "      <td>Male</td>\n",
       "      <td>100</td>\n",
       "      <td>Blindscythe</td>\n",
       "      <td>$3.27</td>\n",
       "    </tr>\n",
       "    <tr>\n",
       "      <th>4</th>\n",
       "      <td>4</td>\n",
       "      <td>Iskosia90</td>\n",
       "      <td>23</td>\n",
       "      <td>Male</td>\n",
       "      <td>131</td>\n",
       "      <td>Fury</td>\n",
       "      <td>$1.44</td>\n",
       "    </tr>\n",
       "  </tbody>\n",
       "</table>\n",
       "</div>"
      ],
      "text/plain": [
       "   Purchase ID             SN  Age Gender  Item ID  \\\n",
       "0            0        Lisim78   20   Male      108   \n",
       "1            1    Lisovynya38   40   Male      143   \n",
       "2            2     Ithergue48   24   Male       92   \n",
       "3            3  Chamassasya86   24   Male      100   \n",
       "4            4      Iskosia90   23   Male      131   \n",
       "\n",
       "                                   Item Name  Price  \n",
       "0  Extraction, Quickblade Of Trembling Hands  $3.53  \n",
       "1                          Frenzied Scimitar  $1.56  \n",
       "2                               Final Critic  $4.88  \n",
       "3                                Blindscythe  $3.27  \n",
       "4                                       Fury  $1.44  "
      ]
     },
     "execution_count": 31,
     "metadata": {},
     "output_type": "execute_result"
    }
   ],
   "source": [
    "purchase_data.head()"
   ]
  },
  {
   "cell_type": "markdown",
   "metadata": {},
   "source": [
    "\n",
    "## Player Count"
   ]
  },
  {
   "cell_type": "code",
   "execution_count": 32,
   "metadata": {},
   "outputs": [
    {
     "data": {
      "text/html": [
       "<div>\n",
       "<style scoped>\n",
       "    .dataframe tbody tr th:only-of-type {\n",
       "        vertical-align: middle;\n",
       "    }\n",
       "\n",
       "    .dataframe tbody tr th {\n",
       "        vertical-align: top;\n",
       "    }\n",
       "\n",
       "    .dataframe thead th {\n",
       "        text-align: right;\n",
       "    }\n",
       "</style>\n",
       "<table border=\"1\" class=\"dataframe\">\n",
       "  <thead>\n",
       "    <tr style=\"text-align: right;\">\n",
       "      <th></th>\n",
       "      <th>Player Count</th>\n",
       "    </tr>\n",
       "  </thead>\n",
       "  <tbody>\n",
       "    <tr>\n",
       "      <th>0</th>\n",
       "      <td>576</td>\n",
       "    </tr>\n",
       "  </tbody>\n",
       "</table>\n",
       "</div>"
      ],
      "text/plain": [
       "   Player Count\n",
       "0           576"
      ]
     },
     "execution_count": 32,
     "metadata": {},
     "output_type": "execute_result"
    }
   ],
   "source": [
    "#Total Number of Players\n",
    "player_dems = purchase_data.loc[:,[\"Gender\",\"SN\",\"Age\"]]\n",
    "player_dems = player_dems.drop_duplicates()\n",
    "PlayerCount = len(purchase_data[\"SN\"].unique())\n",
    "playercount_disp = pd.DataFrame({\"Player Count\": [PlayerCount]})\n",
    "playercount_disp"
   ]
  },
  {
   "cell_type": "markdown",
   "metadata": {},
   "source": [
    "## Purchasing Analysis (Total)"
   ]
  },
  {
   "cell_type": "code",
   "execution_count": 33,
   "metadata": {
    "scrolled": true
   },
   "outputs": [
    {
     "data": {
      "text/html": [
       "<div>\n",
       "<style scoped>\n",
       "    .dataframe tbody tr th:only-of-type {\n",
       "        vertical-align: middle;\n",
       "    }\n",
       "\n",
       "    .dataframe tbody tr th {\n",
       "        vertical-align: top;\n",
       "    }\n",
       "\n",
       "    .dataframe thead th {\n",
       "        text-align: right;\n",
       "    }\n",
       "</style>\n",
       "<table border=\"1\" class=\"dataframe\">\n",
       "  <thead>\n",
       "    <tr style=\"text-align: right;\">\n",
       "      <th></th>\n",
       "      <th>Number of Unique Items</th>\n",
       "      <th>Average Purchase Price</th>\n",
       "      <th>Total Number of Purchases</th>\n",
       "      <th>Total Revenue</th>\n",
       "    </tr>\n",
       "  </thead>\n",
       "  <tbody>\n",
       "    <tr>\n",
       "      <th>0</th>\n",
       "      <td>183</td>\n",
       "      <td>$3.05</td>\n",
       "      <td>780</td>\n",
       "      <td>$2,379.77</td>\n",
       "    </tr>\n",
       "  </tbody>\n",
       "</table>\n",
       "</div>"
      ],
      "text/plain": [
       "   Number of Unique Items  Average Purchase Price  Total Number of Purchases  \\\n",
       "0                     183                   $3.05                        780   \n",
       "\n",
       "   Total Revenue  \n",
       "0      $2,379.77  "
      ]
     },
     "execution_count": 33,
     "metadata": {},
     "output_type": "execute_result"
    }
   ],
   "source": [
    "# Number of unique items\n",
    "Items = len(purchase_data[\"Item ID\"].unique())\n",
    "Items\n",
    "# Average price\n",
    "avg_price = purchase_data[\"Price\"].mean()\n",
    "avg_price\n",
    "# Total number of Purchases\n",
    "total_purchases = purchase_data[\"Price\"].count()\n",
    "total_purchases\n",
    "# Total Revenue\n",
    "total_rev = purchase_data[\"Price\"].sum()\n",
    "total_rev\n",
    "# Resource: kcoyne6\n",
    "#Purchasing Analysis summary dataframe\n",
    "summary_df = pd.DataFrame({\"Number of Unique Items\": [Items],\n",
    "                           \"Average Purchase Price\": (avg_price),\n",
    "                          \"Total Number of Purchases\": [total_purchases],\n",
    "                          \"Total Revenue\": [total_rev]})\n",
    "#Add formatting to Average Purchase Price and Total Revenue\n",
    "pd.options.display.float_format = '${:,.2f}'.format                          \n",
    "summary_df\n"
   ]
  },
  {
   "cell_type": "markdown",
   "metadata": {},
   "source": [
    "# Gender Demographics"
   ]
  },
  {
   "cell_type": "code",
   "execution_count": 34,
   "metadata": {},
   "outputs": [
    {
     "name": "stdout",
     "output_type": "stream",
     "text": [
      "Gender\n",
      "Female                    81\n",
      "Male                     484\n",
      "Other / Non-Disclosed     11\n",
      "Name: SN, dtype: int64\n"
     ]
    },
    {
     "data": {
      "text/plain": [
       "Gender\n",
       "Female                   14.06%\n",
       "Male                     84.03%\n",
       "Other / Non-Disclosed     1.91%\n",
       "Name: SN, dtype: object"
      ]
     },
     "execution_count": 34,
     "metadata": {},
     "output_type": "execute_result"
    }
   ],
   "source": [
    "gender_group_df = purchase_data.groupby([\"Gender\"])[\"SN\"].nunique()\n",
    "print(gender_group_df)\n",
    "gender_pct = (gender_group_df/576)*100\n",
    "gender_pct = gender_pct.round(2).map(\"{0:.2f}%\".format)\n",
    "gender_pct"
   ]
  },
  {
   "cell_type": "code",
   "execution_count": 35,
   "metadata": {},
   "outputs": [
    {
     "name": "stdout",
     "output_type": "stream",
     "text": [
      "Gender\n",
      "Female                   113\n",
      "Male                     652\n",
      "Other / Non-Disclosed     15\n",
      "Name: Item Name, dtype: int64\n",
      "Gender\n",
      "Female                  $3.20\n",
      "Male                    $3.02\n",
      "Other / Non-Disclosed   $3.35\n",
      "Name: Price, dtype: float64\n",
      "Gender\n",
      "Female                    $361.94\n",
      "Male                    $1,967.64\n",
      "Other / Non-Disclosed      $50.19\n",
      "Name: Price, dtype: float64\n"
     ]
    }
   ],
   "source": [
    "## Purchasing Analysis (Gender)\n",
    "gender_purch_df = purchase_data.groupby([\"Gender\"])\n",
    "purchCount = gender_purch_df[\"Item Name\"].count()\n",
    "avgPrice = gender_purch_df[\"Price\"].mean()\n",
    "purchValue = gender_purch_df[\"Price\"].sum()\n",
    "print(purchCount)\n",
    "print(avgPrice)\n",
    "print(purchValue)\n",
    "# Avg. purchase total per Person by gender*****"
   ]
  },
  {
   "cell_type": "markdown",
   "metadata": {},
   "source": [
    "* Run basic calculations to obtain purchase count, avg. purchase price, avg. purchase total per person etc. by gender\n",
    "\n",
    "\n",
    "\n",
    "\n",
    "* Create a summary data frame to hold the results\n",
    "\n",
    "\n",
    "* Optional: give the displayed data cleaner formatting\n",
    "\n",
    "\n",
    "* Display the summary data frame"
   ]
  },
  {
   "cell_type": "code",
   "execution_count": null,
   "metadata": {},
   "outputs": [],
   "source": []
  },
  {
   "cell_type": "markdown",
   "metadata": {},
   "source": [
    "## Age Demographics"
   ]
  },
  {
   "cell_type": "markdown",
   "metadata": {},
   "source": [
    "* Establish bins for ages\n",
    "\n",
    "\n",
    "* Categorize the existing players using the age bins. Hint: use pd.cut()\n",
    "\n",
    "\n",
    "* Calculate the numbers and percentages by age group\n",
    "\n",
    "\n",
    "* Create a summary data frame to hold the results\n",
    "\n",
    "\n",
    "* Optional: round the percentage column to two decimal points\n",
    "\n",
    "\n",
    "* Display Age Demographics Table\n"
   ]
  },
  {
   "cell_type": "code",
   "execution_count": 36,
   "metadata": {},
   "outputs": [],
   "source": [
    "# # Age demographics\n",
    "# # Establish bins for ages\n",
    "# bins = [0,10,15,20,25,30,35,40,200]\n",
    "# binLab = ['Under 10', '10 - 14', '15 - 19', '20 - 24', '25 - 29', '30 - 34', '35 - 39', 'Over 40']\n",
    "\n",
    "# # Add bins to new dataframe and groupby\n",
    "# bin_df = purchase_data.copy()\n",
    "# bin_df[\"Age Groups\"] = pd.cut(bin_df[\"Age\"], bins, labels=binLab)\n",
    "# group_bin = bin_df.groupby([\"Age Groups\"])\n",
    "\n",
    "# # Data manipulation\n",
    "# binnerCount = group_bin[\"SN\"].count()\n",
    "# countTotal = purchase_data[\"SN\"].count()\n",
    "# percentage = (binnerCount / countTotal) * 100\n",
    "# percentage\n",
    "\n",
    "# # Create new DataFrame\n",
    "# Age_Perc = pd.DataFrame({\"Total Count\": binnerCount,\n",
    "#                          \"Percentage of Players\": percentage})\n",
    "\n",
    "# # Add formatting to Percentage of Players\n",
    "# Age_Perc[\"Percentage of Players\"] = Age_Perc[\"Percentage of Players\"].map(\"{:.2f}%\".format)\n",
    "# Age_Perc"
   ]
  },
  {
   "cell_type": "code",
   "execution_count": 37,
   "metadata": {},
   "outputs": [
    {
     "data": {
      "text/plain": [
       "Under 10     17\n",
       "10 - 14      22\n",
       "15 - 19     107\n",
       "20 - 24     258\n",
       "25 - 29      77\n",
       "30 - 34      52\n",
       "35 - 39      31\n",
       "Over 40      12\n",
       "Name: Age Groups, dtype: int64"
      ]
     },
     "execution_count": 37,
     "metadata": {},
     "output_type": "execute_result"
    }
   ],
   "source": [
    "# Age demographics\n",
    "# Establish bins for ages\n",
    "bins = [0,9.90,14.90,19.9,24.9,29.9,34.9,39.9,200]\n",
    "binLab = ['Under 10', '10 - 14', '15 - 19', '20 - 24', '25 - 29', '30 - 34', '35 - 39', 'Over 40']\n",
    "\n",
    "# Add bins to new dataframe and groupby\n",
    "bin_df = player_dems.copy()\n",
    "bin_df[\"Age Groups\"] = pd.cut(bin_df[\"Age\"], bins, labels=binLab)\n",
    "# group_bin = bin_df.groupby([\"Age Groups\"])\n",
    "\n",
    "# #bin data for Purchase Cnt, Avg. Purchase Price, Total Purchase Value\n",
    "# binnerCount = group_bin[\"Price\"].count()\n",
    "# countTotal = purchase_data[\"Price\"].mean()\n",
    "# purch_value = bin_df[\"Price\"].sum()\n",
    "\n",
    "# binnerCount\n",
    "# countTotal\n",
    "# purch_value\n",
    "agebreaks = bin_df[\"Age Groups\"].value_counts()\n",
    "agebreaks = agebreaks.sort_index()\n",
    "agebreaks\n",
    "\n",
    "# Need help with syntax for avg purchase price and total purchase value."
   ]
  },
  {
   "cell_type": "markdown",
   "metadata": {},
   "source": [
    "## Purchasing Analysis (Age)"
   ]
  },
  {
   "cell_type": "code",
   "execution_count": null,
   "metadata": {},
   "outputs": [],
   "source": []
  },
  {
   "cell_type": "markdown",
   "metadata": {},
   "source": [
    "* Bin the purchase_data data frame by age\n",
    "\n",
    "\n",
    "* Run basic calculations to obtain purchase count, avg. purchase price, avg. purchase total per person etc. in the table below\n",
    "\n",
    "\n",
    "* Create a summary data frame to hold the results\n",
    "\n",
    "\n",
    "* Optional: give the displayed data cleaner formatting\n",
    "\n",
    "\n",
    "* Display the summary data frame"
   ]
  },
  {
   "cell_type": "code",
   "execution_count": 38,
   "metadata": {},
   "outputs": [
    {
     "name": "stdout",
     "output_type": "stream",
     "text": [
      "Age Groups\n",
      "Under 10     17\n",
      "10 - 14      22\n",
      "15 - 19     107\n",
      "20 - 24     258\n",
      "25 - 29      77\n",
      "30 - 34      52\n",
      "35 - 39      31\n",
      "Over 40      12\n",
      "Name: Price, dtype: int64\n",
      "Age Groups\n",
      "Under 10   $3.39\n",
      "10 - 14    $3.07\n",
      "15 - 19    $3.10\n",
      "20 - 24    $3.06\n",
      "25 - 29    $2.91\n",
      "30 - 34    $2.92\n",
      "35 - 39    $3.51\n",
      "Over 40    $3.04\n",
      "Name: Price, dtype: float64\n",
      "Age Groups\n",
      "Under 10    $57.63\n",
      "10 - 14     $67.64\n",
      "15 - 19    $331.88\n",
      "20 - 24    $790.39\n",
      "25 - 29    $223.93\n",
      "30 - 34    $151.92\n",
      "35 - 39    $108.81\n",
      "Over 40     $36.45\n",
      "Name: Price, dtype: float64\n"
     ]
    }
   ],
   "source": [
    "#Binning by purchase data \n",
    "bin_purch_df = purchase_data.copy()\n",
    "bin_purch_df[\"Age Groups\"] = pd.cut(bin_df[\"Age\"], bins, labels=binLab)\n",
    "\n",
    "#bin data for Purchase Cnt, Avg. Purchase Price, Total Purchase Value\n",
    "bin_purch_df = bin_purch_df.groupby([\"Age Groups\"])\n",
    "purchCount = bin_purch_df.count()[\"Price\"]\n",
    "avgPrice = bin_purch_df.mean()[\"Price\"]\n",
    "purchValue = bin_purch_df.sum()[\"Price\"]\n",
    "print(purchCount)\n",
    "print(avgPrice)\n",
    "print(purchValue)"
   ]
  },
  {
   "cell_type": "markdown",
   "metadata": {},
   "source": [
    "## Top Spenders"
   ]
  },
  {
   "cell_type": "markdown",
   "metadata": {},
   "source": [
    "* Run basic calculations to obtain the results in the table below\n",
    "\n",
    "\n",
    "* Create a summary data frame to hold the results\n",
    "\n",
    "\n",
    "* Sort the total purchase value column in descending order\n",
    "\n",
    "\n",
    "* Optional: give the displayed data cleaner formatting\n",
    "\n",
    "\n",
    "* Display a preview of the summary data frame\n",
    "\n"
   ]
  },
  {
   "cell_type": "code",
   "execution_count": 23,
   "metadata": {},
   "outputs": [
    {
     "name": "stdout",
     "output_type": "stream",
     "text": [
      "Lisosia93      5\n",
      "Iral74         4\n",
      "Idastidru52    4\n",
      "Chamimla85     3\n",
      "Chamjask73     3\n",
      "Name: SN, dtype: int64\n"
     ]
    }
   ],
   "source": [
    "#Top Spenders\n",
    "print(purchase_data[\"SN\"].value_counts().nlargest(5))\n"
   ]
  },
  {
   "cell_type": "markdown",
   "metadata": {},
   "source": [
    "## Most Popular Items"
   ]
  },
  {
   "cell_type": "markdown",
   "metadata": {},
   "source": [
    "* Retrieve the Item ID, Item Name, and Item Price columns\n",
    "\n",
    "\n",
    "* Group by Item ID and Item Name. Perform calculations to obtain purchase count, item price, and total purchase value\n",
    "\n",
    "\n",
    "* Create a summary data frame to hold the results\n",
    "\n",
    "\n",
    "* Sort the purchase count column in descending order\n",
    "\n",
    "\n",
    "* Optional: give the displayed data cleaner formatting\n",
    "\n",
    "\n",
    "* Display a preview of the summary data frame\n",
    "\n"
   ]
  },
  {
   "cell_type": "code",
   "execution_count": 40,
   "metadata": {},
   "outputs": [
    {
     "name": "stdout",
     "output_type": "stream",
     "text": [
      "Final Critic                                    13\n",
      "Oathbreaker, Last Hope of the Breaking Storm    12\n",
      "Nirvana                                          9\n",
      "Fiery Glass Crusader                             9\n",
      "Extraction, Quickblade Of Trembling Hands        9\n",
      "Name: Item Name, dtype: int64\n"
     ]
    }
   ],
   "source": [
    "#Most Popular Items\n",
    "print(purchase_data[\"Item Name\"].value_counts().nlargest(5))\n",
    "# SN_total = purchase_data.groupby([\"SN\"]).sum()[\"Price\"].rename(\"Total Purchase Value\")\n",
    "# SN_avg = purchase_data.groupby([\"SN\"]).mean()[\"Price\"]. rename(\"Avg. Purchase Price\")\n",
    "#SN_"
   ]
  },
  {
   "cell_type": "markdown",
   "metadata": {},
   "source": [
    "## Most Profitable Items"
   ]
  },
  {
   "cell_type": "markdown",
   "metadata": {},
   "source": [
    "* Sort the above table by total purchase value in descending order\n",
    "\n",
    "\n",
    "* Optional: give the displayed data cleaner formatting\n",
    "\n",
    "\n",
    "* Display a preview of the data frame\n",
    "\n"
   ]
  },
  {
   "cell_type": "code",
   "execution_count": 39,
   "metadata": {
    "scrolled": true
   },
   "outputs": [
    {
     "data": {
      "text/html": [
       "<div>\n",
       "<style scoped>\n",
       "    .dataframe tbody tr th:only-of-type {\n",
       "        vertical-align: middle;\n",
       "    }\n",
       "\n",
       "    .dataframe tbody tr th {\n",
       "        vertical-align: top;\n",
       "    }\n",
       "\n",
       "    .dataframe thead th {\n",
       "        text-align: right;\n",
       "    }\n",
       "</style>\n",
       "<table border=\"1\" class=\"dataframe\">\n",
       "  <thead>\n",
       "    <tr style=\"text-align: right;\">\n",
       "      <th></th>\n",
       "      <th>Purchase ID</th>\n",
       "      <th>SN</th>\n",
       "      <th>Age</th>\n",
       "      <th>Gender</th>\n",
       "      <th>Item ID</th>\n",
       "      <th>Item Name</th>\n",
       "      <th>Price</th>\n",
       "    </tr>\n",
       "  </thead>\n",
       "  <tbody>\n",
       "    <tr>\n",
       "      <th>554</th>\n",
       "      <td>554</td>\n",
       "      <td>Dyally87</td>\n",
       "      <td>22</td>\n",
       "      <td>Male</td>\n",
       "      <td>63</td>\n",
       "      <td>Stormfury Mace</td>\n",
       "      <td>$4.99</td>\n",
       "    </tr>\n",
       "    <tr>\n",
       "      <th>189</th>\n",
       "      <td>189</td>\n",
       "      <td>Hiasri33</td>\n",
       "      <td>23</td>\n",
       "      <td>Male</td>\n",
       "      <td>63</td>\n",
       "      <td>Stormfury Mace</td>\n",
       "      <td>$4.99</td>\n",
       "    </tr>\n",
       "    <tr>\n",
       "      <th>110</th>\n",
       "      <td>110</td>\n",
       "      <td>Ririp86</td>\n",
       "      <td>25</td>\n",
       "      <td>Male</td>\n",
       "      <td>139</td>\n",
       "      <td>Mercy, Katana of Dismay</td>\n",
       "      <td>$4.94</td>\n",
       "    </tr>\n",
       "    <tr>\n",
       "      <th>246</th>\n",
       "      <td>246</td>\n",
       "      <td>Lirtilsa71</td>\n",
       "      <td>24</td>\n",
       "      <td>Male</td>\n",
       "      <td>139</td>\n",
       "      <td>Mercy, Katana of Dismay</td>\n",
       "      <td>$4.94</td>\n",
       "    </tr>\n",
       "    <tr>\n",
       "      <th>493</th>\n",
       "      <td>493</td>\n",
       "      <td>Chanirrasta87</td>\n",
       "      <td>14</td>\n",
       "      <td>Male</td>\n",
       "      <td>139</td>\n",
       "      <td>Mercy, Katana of Dismay</td>\n",
       "      <td>$4.94</td>\n",
       "    </tr>\n",
       "    <tr>\n",
       "      <th>116</th>\n",
       "      <td>116</td>\n",
       "      <td>Lassilsala30</td>\n",
       "      <td>21</td>\n",
       "      <td>Male</td>\n",
       "      <td>139</td>\n",
       "      <td>Mercy, Katana of Dismay</td>\n",
       "      <td>$4.94</td>\n",
       "    </tr>\n",
       "    <tr>\n",
       "      <th>231</th>\n",
       "      <td>231</td>\n",
       "      <td>Yarithsurgue62</td>\n",
       "      <td>26</td>\n",
       "      <td>Male</td>\n",
       "      <td>139</td>\n",
       "      <td>Mercy, Katana of Dismay</td>\n",
       "      <td>$4.94</td>\n",
       "    </tr>\n",
       "    <tr>\n",
       "      <th>477</th>\n",
       "      <td>477</td>\n",
       "      <td>Mindossa76</td>\n",
       "      <td>41</td>\n",
       "      <td>Male</td>\n",
       "      <td>173</td>\n",
       "      <td>Stormfury Longsword</td>\n",
       "      <td>$4.93</td>\n",
       "    </tr>\n",
       "    <tr>\n",
       "      <th>686</th>\n",
       "      <td>686</td>\n",
       "      <td>Chadjask77</td>\n",
       "      <td>8</td>\n",
       "      <td>Male</td>\n",
       "      <td>147</td>\n",
       "      <td>Hellreaver, Heirloom of Inception</td>\n",
       "      <td>$4.93</td>\n",
       "    </tr>\n",
       "    <tr>\n",
       "      <th>290</th>\n",
       "      <td>290</td>\n",
       "      <td>Idastidru52</td>\n",
       "      <td>24</td>\n",
       "      <td>Male</td>\n",
       "      <td>147</td>\n",
       "      <td>Hellreaver, Heirloom of Inception</td>\n",
       "      <td>$4.93</td>\n",
       "    </tr>\n",
       "    <tr>\n",
       "      <th>275</th>\n",
       "      <td>275</td>\n",
       "      <td>Smaistysu35</td>\n",
       "      <td>30</td>\n",
       "      <td>Male</td>\n",
       "      <td>173</td>\n",
       "      <td>Stormfury Longsword</td>\n",
       "      <td>$4.93</td>\n",
       "    </tr>\n",
       "    <tr>\n",
       "      <th>312</th>\n",
       "      <td>312</td>\n",
       "      <td>Strithenu87</td>\n",
       "      <td>20</td>\n",
       "      <td>Male</td>\n",
       "      <td>147</td>\n",
       "      <td>Hellreaver, Heirloom of Inception</td>\n",
       "      <td>$4.93</td>\n",
       "    </tr>\n",
       "    <tr>\n",
       "      <th>577</th>\n",
       "      <td>577</td>\n",
       "      <td>Filurarn35</td>\n",
       "      <td>19</td>\n",
       "      <td>Male</td>\n",
       "      <td>128</td>\n",
       "      <td>Blazeguard, Reach of Eternity</td>\n",
       "      <td>$4.91</td>\n",
       "    </tr>\n",
       "    <tr>\n",
       "      <th>593</th>\n",
       "      <td>593</td>\n",
       "      <td>Lassimla92</td>\n",
       "      <td>25</td>\n",
       "      <td>Male</td>\n",
       "      <td>128</td>\n",
       "      <td>Blazeguard, Reach of Eternity</td>\n",
       "      <td>$4.91</td>\n",
       "    </tr>\n",
       "    <tr>\n",
       "      <th>388</th>\n",
       "      <td>388</td>\n",
       "      <td>Aeda94</td>\n",
       "      <td>17</td>\n",
       "      <td>Male</td>\n",
       "      <td>128</td>\n",
       "      <td>Blazeguard, Reach of Eternity</td>\n",
       "      <td>$4.91</td>\n",
       "    </tr>\n",
       "  </tbody>\n",
       "</table>\n",
       "</div>"
      ],
      "text/plain": [
       "     Purchase ID              SN  Age Gender  Item ID  \\\n",
       "554          554        Dyally87   22   Male       63   \n",
       "189          189        Hiasri33   23   Male       63   \n",
       "110          110         Ririp86   25   Male      139   \n",
       "246          246      Lirtilsa71   24   Male      139   \n",
       "493          493   Chanirrasta87   14   Male      139   \n",
       "116          116    Lassilsala30   21   Male      139   \n",
       "231          231  Yarithsurgue62   26   Male      139   \n",
       "477          477      Mindossa76   41   Male      173   \n",
       "686          686      Chadjask77    8   Male      147   \n",
       "290          290     Idastidru52   24   Male      147   \n",
       "275          275     Smaistysu35   30   Male      173   \n",
       "312          312     Strithenu87   20   Male      147   \n",
       "577          577      Filurarn35   19   Male      128   \n",
       "593          593      Lassimla92   25   Male      128   \n",
       "388          388          Aeda94   17   Male      128   \n",
       "\n",
       "                             Item Name  Price  \n",
       "554                     Stormfury Mace  $4.99  \n",
       "189                     Stormfury Mace  $4.99  \n",
       "110            Mercy, Katana of Dismay  $4.94  \n",
       "246            Mercy, Katana of Dismay  $4.94  \n",
       "493            Mercy, Katana of Dismay  $4.94  \n",
       "116            Mercy, Katana of Dismay  $4.94  \n",
       "231            Mercy, Katana of Dismay  $4.94  \n",
       "477                Stormfury Longsword  $4.93  \n",
       "686  Hellreaver, Heirloom of Inception  $4.93  \n",
       "290  Hellreaver, Heirloom of Inception  $4.93  \n",
       "275                Stormfury Longsword  $4.93  \n",
       "312  Hellreaver, Heirloom of Inception  $4.93  \n",
       "577      Blazeguard, Reach of Eternity  $4.91  \n",
       "593      Blazeguard, Reach of Eternity  $4.91  \n",
       "388      Blazeguard, Reach of Eternity  $4.91  "
      ]
     },
     "execution_count": 39,
     "metadata": {},
     "output_type": "execute_result"
    }
   ],
   "source": [
    "# Most Profitable Items\n",
    "profitable_df = purchase_data.sort_values(\"Price\", ascending=False)    \n",
    "profitable_df.head(15)"
   ]
  },
  {
   "cell_type": "code",
   "execution_count": null,
   "metadata": {},
   "outputs": [],
   "source": []
  }
 ],
 "metadata": {
  "anaconda-cloud": {},
  "kernel_info": {
   "name": "python3"
  },
  "kernelspec": {
   "display_name": "Python 3",
   "language": "python",
   "name": "python3"
  },
  "language_info": {
   "codemirror_mode": {
    "name": "ipython",
    "version": 3
   },
   "file_extension": ".py",
   "mimetype": "text/x-python",
   "name": "python",
   "nbconvert_exporter": "python",
   "pygments_lexer": "ipython3",
   "version": "3.7.3"
  },
  "latex_envs": {
   "LaTeX_envs_menu_present": true,
   "autoclose": false,
   "autocomplete": true,
   "bibliofile": "biblio.bib",
   "cite_by": "apalike",
   "current_citInitial": 1,
   "eqLabelWithNumbers": true,
   "eqNumInitial": 1,
   "hotkeys": {
    "equation": "Ctrl-E",
    "itemize": "Ctrl-I"
   },
   "labels_anchors": false,
   "latex_user_defs": false,
   "report_style_numbering": false,
   "user_envs_cfg": false
  },
  "nteract": {
   "version": "0.2.0"
  }
 },
 "nbformat": 4,
 "nbformat_minor": 4
}
